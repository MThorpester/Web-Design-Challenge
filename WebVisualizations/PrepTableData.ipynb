{
 "cells": [
  {
   "cell_type": "code",
   "execution_count": 13,
   "metadata": {},
   "outputs": [],
   "source": [
    "# Dependencies and Setup\n",
    "import matplotlib.pyplot as plt\n",
    "import pandas as pd\n",
    "import numpy as np\n",
    "import os"
   ]
  },
  {
   "cell_type": "code",
   "execution_count": 14,
   "metadata": {},
   "outputs": [],
   "source": [
    "# Read combined csv file of US COVID cases & IAD percentages\n",
    "# Create Pandas dataframe and set the Date as the index\n",
    "input_data_file = \"clean_covid_iad_scatter_in.csv\"\n",
    "COVID_IAD_df = pd.read_csv(input_data_file)\n",
    "\n",
    "COVID_IAD_df.sort_values(by='Date')\n",
    "COVID_IAD_df.set_index('Date', inplace=True)\n",
    "\n",
    "# COVID_IAD_df.head(100)"
   ]
  },
  {
   "cell_type": "code",
   "execution_count": 12,
   "metadata": {},
   "outputs": [],
   "source": [
    "# Generate the html table from this dataframe\n",
    "table_html = COVID_IAD_df.to_html() \n",
    "  \n",
    "# write html to file \n",
    "text_file = open(\"TableData.html\", \"w\") \n",
    "text_file.write(table_html) \n",
    "text_file.close() "
   ]
  },
  {
   "cell_type": "code",
   "execution_count": null,
   "metadata": {},
   "outputs": [],
   "source": []
  }
 ],
 "metadata": {
  "kernelspec": {
   "display_name": "Python [conda env:PythonData] *",
   "language": "python",
   "name": "conda-env-PythonData-py"
  },
  "language_info": {
   "codemirror_mode": {
    "name": "ipython",
    "version": 3
   },
   "file_extension": ".py",
   "mimetype": "text/x-python",
   "name": "python",
   "nbconvert_exporter": "python",
   "pygments_lexer": "ipython3",
   "version": "3.8.5"
  }
 },
 "nbformat": 4,
 "nbformat_minor": 4
}
